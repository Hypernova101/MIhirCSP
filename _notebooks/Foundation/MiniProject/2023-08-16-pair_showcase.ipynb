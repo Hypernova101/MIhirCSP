{
 "cells": [
  {
   "cell_type": "raw",
   "metadata": {
    "vscode": {
     "languageId": "raw"
    }
   },
   "source": [
    "---\n",
    "title: Mini Project\n",
    "description: TBD\n",
    "permalink: /miniproject/home\n",
    "---"
   ]
  },
  {
   "cell_type": "markdown",
   "metadata": {},
   "source": [
    "<html lang=\"en\">\n",
    "<head>\n",
    "    <meta charset=\"UTF-8\">\n",
    "    <meta name=\"viewport\" content=\"width=device-width, initial-scale=1.0\">\n",
    "    <title>Document</title>\n",
    "</head>\n",
    "\n",
    "<style>\n",
    "    header img {\n",
    "    width: 50px;\n",
    "    height: auto;\n",
    "    }\n",
    "\n",
    "\n",
    "    .nav_links {\n",
    "    list-style-type: none;\n",
    "    margin: 0;\n",
    "    padding: 1em;\n",
    "    display: flex;\n",
    "    }\n",
    "\n",
    "\n",
    "    .nav_links li, a{\n",
    "    margin: 0 15px;\n",
    "    color: white;\n",
    "    text-decoration: none;\n",
    "    font-family: 'Noto Sans';\n",
    "    font-weight: 200;\n",
    "    font-size: 16px;\n",
    "    background-color: rgba(1,1,1,1,0);\n",
    "    }\n",
    "\n",
    "\n",
    "    /* nav hover animss */\n",
    "    header:hover {\n",
    "    background-color: rgba(255, 255, 255, 0.3);\n",
    "    }\n",
    "\n",
    "\n",
    "    header:hover .nav_links li a{\n",
    "    color: black;\n",
    "    font-weight: 300;\n",
    "    }\n",
    "\n",
    "\n",
    "    .nav_links li, a:hover {\n",
    "    /* need to do */\n",
    "    }\n",
    "\n",
    "</style>\n",
    "\n",
    "\n",
    "<body>\n",
    "    <header>\n",
    "            <nav>\n",
    "                <ul class=\"nav_links\">\n",
    "                    <li><a href=\"#\">doggy</a></li>\n",
    "                    <li><a href=\"#\">cattu</a></li>\n",
    "                    <li><a href=\"#\">kabuttar</a></li>\n",
    "                    <li><a href=\"#\">ulu</a></li>\n",
    "                </ul>\n",
    "            </nav>\n",
    "    </header>\n",
    "</body>\n",
    "</html>"
   ]
  },
  {
   "cell_type": "markdown",
   "metadata": {},
   "source": []
  }
 ],
 "metadata": {
  "language_info": {
   "name": "python"
  },
  "orig_nbformat": 4
 },
 "nbformat": 4,
 "nbformat_minor": 2
}
