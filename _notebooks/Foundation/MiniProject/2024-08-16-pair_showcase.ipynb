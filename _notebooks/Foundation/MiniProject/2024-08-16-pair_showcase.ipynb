{
 "cells": [
  {
   "cell_type": "raw",
   "metadata": {
    "vscode": {
     "languageId": "raw"
    }
   },
   "source": [
    "---\n",
    "layout: post\n",
    "title: Mini Project \n",
    "description:  This is very cool CyberPatriot blog!!\n",
    "type: issues \n",
    "comments: false\n",
    "permalink: /miniproject/home\n",
    "menu: nav/blognav.html\n",
    "---"
   ]
  },
  {
   "cell_type": "markdown",
   "metadata": {
    "vscode": {
     "languageId": "html"
    }
   },
   "source": [
    "<html lang=\"en\">\n",
    "<head>\n",
    "    <meta charset=\"UTF-8\">\n",
    "    <meta name=\"viewport\" content=\"width=device-width, initial-scale=1.0\">\n",
    "    <title>CyberPatriot Blog</title>\n",
    "</head>\n",
    "<body>\n",
    "    <main>\n",
    "        <section id=\"windows\">\n",
    "            <h2>Windows</h2>\n",
    "            <p>Information about Windows OS</p>\n",
    "        </section>\n",
    "        <section id=\"linux\">\n",
    "            <h2>Linux</h2>\n",
    "            <p>Information about Linux OS</p>\n",
    "        </section>\n",
    "        <section id=\"networking\">\n",
    "            <h2>Network Engineering</h2>\n",
    "            <p>Information about Network Engineering</p>\n",
    "        </section>\n",
    "    </main>\n",
    "    <footer>\n",
    "        <p>&copy; 2024 CyberPatriot Blog</p>\n",
    "    </footer>\n",
    "</body>\n",
    "</html>"
   ]
  }
 ],
 "metadata": {
  "language_info": {
   "name": "python"
  }
 },
 "nbformat": 4,
 "nbformat_minor": 2
}
