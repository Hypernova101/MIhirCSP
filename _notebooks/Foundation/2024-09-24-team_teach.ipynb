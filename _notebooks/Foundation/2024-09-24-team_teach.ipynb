{
 "cells": [
  {
   "cell_type": "raw",
   "metadata": {
    "vscode": {
     "languageId": "raw"
    }
   },
   "source": [
    "---\n",
    "toc: true\n",
    "layout: post\n",
    "type: hacks\n",
    "courses: { compsci: {week: 14} }\n",
    "title: String Operations Notebook\n",
    "description: 3.4 Team Teach String Operations\n",
    "---"
   ]
  },
  {
   "cell_type": "markdown",
   "metadata": {},
   "source": [
    "## What are String Operations?\n",
    " - String Operations allow us to manipulate and work with text-based data\n",
    " - NEED to know for handling input/output (big in algorithmic coding), formatting, and data processing"
   ]
  },
  {
   "cell_type": "markdown",
   "metadata": {},
   "source": [
    "## Measuring String Length\n",
    " - The len() function in Python allows us to find the length of a string\n",
    " - Use .length in JavaScript to do this as well"
   ]
  },
  {
   "cell_type": "code",
   "execution_count": 1,
   "metadata": {},
   "outputs": [
    {
     "name": "stdout",
     "output_type": "stream",
     "text": [
      "5\n"
     ]
    }
   ],
   "source": [
    "print(len(\"Hello\"))"
   ]
  },
  {
   "cell_type": "markdown",
   "metadata": {},
   "source": [
    " - Use Case: Determine number of characters in string (eg for validation of password length)"
   ]
  },
  {
   "cell_type": "markdown",
   "metadata": {},
   "source": [
    "## String Case Convertion\n",
    " - Uppercase: Convert to uppercase using .upper() in Python\n",
    " - Lowercase: Convert to lowercase using .lower() in Python"
   ]
  },
  {
   "cell_type": "code",
   "execution_count": 4,
   "metadata": {},
   "outputs": [
    {
     "name": "stdout",
     "output_type": "stream",
     "text": [
      "HELLO\n",
      "hello\n"
     ]
    }
   ],
   "source": [
    "print(\"hello\".upper())\n",
    "print(\"HELLO\".lower())"
   ]
  },
  {
   "cell_type": "markdown",
   "metadata": {},
   "source": [
    " - Use Case: Useful for standardizing text inputs, like making email addresses case-insensitive"
   ]
  },
  {
   "cell_type": "markdown",
   "metadata": {},
   "source": [
    "## String Slicing\n",
    " - Through string slicing, we can access a part of the string using indexes\n",
    " - Each character in a string gets assigned a index, starting from 0\n",
    " - Syntax is [startindex:endindex]"
   ]
  },
  {
   "cell_type": "code",
   "execution_count": 5,
   "metadata": {},
   "outputs": [
    {
     "name": "stdout",
     "output_type": "stream",
     "text": [
      "Hello\n"
     ]
    }
   ],
   "source": [
    "print(\"Hello World\"[0:5])"
   ]
  },
  {
   "cell_type": "markdown",
   "metadata": {},
   "source": [
    " - Use Case: Extract substrings, like the first word from a sentence"
   ]
  },
  {
   "cell_type": "markdown",
   "metadata": {},
   "source": [
    "## Finding Substrings\n",
    " - Searches for a substring and returns its position within a overlaying string\n",
    " - .find() in Python"
   ]
  },
  {
   "cell_type": "code",
   "execution_count": 6,
   "metadata": {},
   "outputs": [
    {
     "name": "stdout",
     "output_type": "stream",
     "text": [
      "6\n"
     ]
    }
   ],
   "source": [
    "print(\"Hello World\".find(\"World\"))"
   ]
  },
  {
   "cell_type": "markdown",
   "metadata": {},
   "source": [
    " - Use Case: Helpful for parsing text or finding key words"
   ]
  },
  {
   "cell_type": "markdown",
   "metadata": {},
   "source": [
    "## Replacing Substrings\n",
    " - Can replace different parts of a string with something else\n",
    " - .replace() in Python"
   ]
  },
  {
   "cell_type": "code",
   "execution_count": 7,
   "metadata": {},
   "outputs": [
    {
     "name": "stdout",
     "output_type": "stream",
     "text": [
      "Hello Mihir\n"
     ]
    }
   ],
   "source": [
    "print(\"Hello World\".replace(\"World\", \"Mihir\"))"
   ]
  },
  {
   "cell_type": "markdown",
   "metadata": {},
   "source": [
    " - Use Case: Useful for replacing specific parts of text without having to re initiate the whole thing again"
   ]
  },
  {
   "cell_type": "markdown",
   "metadata": {},
   "source": [
    "## Splitting Strings\n",
    " - Splits a string into a list of substrings based on a delimiter (most commonly a space or comma)\n",
    " - .split() in Python"
   ]
  },
  {
   "cell_type": "code",
   "execution_count": 8,
   "metadata": {},
   "outputs": [
    {
     "name": "stdout",
     "output_type": "stream",
     "text": [
      "['apple', 'banana', 'grape']\n"
     ]
    }
   ],
   "source": [
    "print(\"apple,banana,grape\".split(\",\"))"
   ]
  },
  {
   "cell_type": "markdown",
   "metadata": {},
   "source": [
    " - Use Case: Parse through CSV files or processing large lists of items"
   ]
  },
  {
   "cell_type": "markdown",
   "metadata": {},
   "source": [
    "## Joining Strings\n",
    " - Basically opposite of splitting strings\n",
    " - .join() in Python\n"
   ]
  },
  {
   "cell_type": "code",
   "execution_count": 9,
   "metadata": {},
   "outputs": [
    {
     "name": "stdout",
     "output_type": "stream",
     "text": [
      "apple,banana,grape\n"
     ]
    }
   ],
   "source": [
    "print(\",\".join(['apple', 'banana', 'grape']))"
   ]
  },
  {
   "cell_type": "markdown",
   "metadata": {},
   "source": [
    " - Use Case: Combine a list of strings into a single string, helpful for reformatting content"
   ]
  },
  {
   "cell_type": "markdown",
   "metadata": {},
   "source": [
    "## Sample Hack - Password Validator"
   ]
  },
  {
   "cell_type": "markdown",
   "metadata": {},
   "source": [
    "## Simple Password Validator"
   ]
  },
  {
   "cell_type": "code",
   "execution_count": 8,
   "metadata": {},
   "outputs": [
    {
     "name": "stdout",
     "output_type": "stream",
     "text": [
      "Password is valid! Here’s a fun version: HelloWorldabc\n"
     ]
    }
   ],
   "source": [
    "def password_validator(password):\n",
    "    if len(password) < 8:\n",
    "        return \"Password too short. Must be at least 8 characters.\"\n",
    "\n",
    "    if password == password.lower() or password == password.upper():\n",
    "        return \"Password must contain both uppercase and lowercase letters.\"\n",
    "\n",
    "    if not any(char.isdigit() for char in password):\n",
    "        return \"Password must contain at least one number.\"\n",
    "\n",
    "    # Optional\n",
    "    password = password.replace(\"123\", \"abc\")\n",
    "\n",
    "    words = password.split(\" \")\n",
    "    customized_password = \"-\".join(words)\n",
    "\n",
    "    return f\"Password is valid! Here’s a fun version: {customized_password}\"\n",
    "\n",
    "# Example usage\n",
    "password = \"HelloWorld123\"\n",
    "print(password_validator(password))\n"
   ]
  },
  {
   "cell_type": "code",
   "execution_count": 9,
   "metadata": {},
   "outputs": [
    {
     "name": "stdout",
     "output_type": "stream",
     "text": [
      "Password must contain both uppercase and lowercase letters.\n"
     ]
    }
   ],
   "source": [
    "print(password_validator(\"HELLO123\"))"
   ]
  },
  {
   "cell_type": "code",
   "execution_count": 10,
   "metadata": {},
   "outputs": [
    {
     "name": "stdout",
     "output_type": "stream",
     "text": [
      "Password is valid! Here’s a fun version: Helloabc\n"
     ]
    }
   ],
   "source": [
    "print(password_validator(\"Hello123\"))"
   ]
  },
  {
   "cell_type": "markdown",
   "metadata": {},
   "source": [
    "## Advanced Password Validator"
   ]
  },
  {
   "cell_type": "code",
   "execution_count": 7,
   "metadata": {},
   "outputs": [
    {
     "name": "stdout",
     "output_type": "stream",
     "text": [
      "Password is valid and Strong! Here’s a fun version: HiWorld13475!\n"
     ]
    }
   ],
   "source": [
    "import re\n",
    "\n",
    "def password_validator(password):\n",
    "    if len(password) < 8:\n",
    "        return \"Password too short. Must be at least 8 characters.\"\n",
    "    \n",
    "    if password == password.lower() or password == password.upper():\n",
    "        return \"Password must contain both uppercase and lowercase letters.\"\n",
    "    \n",
    "    if not any(char.isdigit() for char in password):\n",
    "        return \"Password must contain at least one number.\"\n",
    "    \n",
    "    if not re.search(r\"[!@#$%^&*()_+]\", password):\n",
    "        return \"Password must contain at least one special character (e.g. !, @, #, etc.)\"\n",
    "    \n",
    "    common_passwords = [\"password\", \"123456\", \"letmein\", \"qwerty\"]\n",
    "    if password.lower() in common_passwords:\n",
    "        return \"Password is too common. Choose something less predictable.\"\n",
    "    \n",
    "    sequential_patterns = [\"123\", \"abc\", \"xyz\"]\n",
    "    for pattern in sequential_patterns:\n",
    "        if pattern in password.lower():\n",
    "            return \"Password should not contain sequential characters like '123' or 'abc'.\"\n",
    "    \n",
    "    score = 0\n",
    "    if len(password) >= 10:\n",
    "        score += 1\n",
    "    if re.search(r\"[A-Z]\", password) and re.search(r\"[a-z]\", password):\n",
    "        score += 1\n",
    "    if re.search(r\"\\d\", password):\n",
    "        score += 1\n",
    "    if re.search(r\"[!@#$%^&*()_+]\", password):\n",
    "        score += 1\n",
    "\n",
    "    strength = \"Weak\"\n",
    "    if score == 2:\n",
    "        strength = \"Medium\"\n",
    "    elif score >= 3:\n",
    "        strength = \"Strong\"\n",
    "\n",
    "    password = password.replace(\"Hello\", \"Hi\")\n",
    "    words = password.split(\" \")\n",
    "    customized_password = \"-\".join(words)\n",
    "\n",
    "    return f\"Password is valid and {strength}! Here’s a fun version: {customized_password}\"\n",
    "\n",
    "# Example usage\n",
    "password = \"HelloWorld13475!\"\n",
    "print(password_validator(password))\n",
    "\n"
   ]
  }
 ],
 "metadata": {
  "kernelspec": {
   "display_name": "Python 3",
   "language": "python",
   "name": "python3"
  },
  "language_info": {
   "codemirror_mode": {
    "name": "ipython",
    "version": 3
   },
   "file_extension": ".py",
   "mimetype": "text/x-python",
   "name": "python",
   "nbconvert_exporter": "python",
   "pygments_lexer": "ipython3",
   "version": "3.10.12"
  }
 },
 "nbformat": 4,
 "nbformat_minor": 2
}
