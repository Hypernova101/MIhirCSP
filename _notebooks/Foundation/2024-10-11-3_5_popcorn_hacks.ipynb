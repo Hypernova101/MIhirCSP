{
 "cells": [
  {
   "cell_type": "raw",
   "metadata": {
    "vscode": {
     "languageId": "raw"
    }
   },
   "source": [
    "---\n",
    "toc: true\n",
    "layout: post\n",
    "type: hacks\n",
    "courses: { compsci: {week: 14} }\n",
    "title: 3.5 Popcorn Hacks\n",
    "description: Mihir's Submission for Hacks from Lesson\n",
    "---"
   ]
  },
  {
   "cell_type": "markdown",
   "metadata": {},
   "source": [
    "# Popcorn Hack 1\n",
    "Check if a boolean is true and check if both conditions are true or either is true."
   ]
  },
  {
   "cell_type": "code",
   "execution_count": 1,
   "metadata": {},
   "outputs": [
    {
     "name": "stdout",
     "output_type": "stream",
     "text": [
      "True\n",
      "False\n",
      "True\n"
     ]
    }
   ],
   "source": [
    "# Check if a boolean is true\n",
    "def is_true(value):\n",
    "    return value == True\n",
    "\n",
    "# Check if both conditions are true (AND)\n",
    "def both_true(a, b):\n",
    "    return a and b\n",
    "\n",
    "# Check if either condition is true (OR)\n",
    "def either_true(a, b):\n",
    "    return a or b\n",
    "\n",
    "# Example usage:\n",
    "print(is_true(True))          # Output: True\n",
    "print(both_true(True, False)) # Output: False\n",
    "print(either_true(True, False)) # Output: True"
   ]
  },
  {
   "cell_type": "markdown",
   "metadata": {},
   "source": [
    "# Popcorn Hack 2\n",
    "Create a boolean expression to check if a number is greater than 10."
   ]
  },
  {
   "cell_type": "code",
   "execution_count": 2,
   "metadata": {},
   "outputs": [
    {
     "name": "stdout",
     "output_type": "stream",
     "text": [
      "True\n",
      "False\n"
     ]
    }
   ],
   "source": [
    "def is_greater_than_10(number):\n",
    "    return number > 10\n",
    "\n",
    "# Example usage:\n",
    "print(is_greater_than_10(15))  # Output: True\n",
    "print(is_greater_than_10(8))   # Output: False"
   ]
  },
  {
   "cell_type": "markdown",
   "metadata": {},
   "source": [
    "# Popcorn Hack 3\n",
    "Create a boolean expression to check if a number is a three-digit number."
   ]
  },
  {
   "cell_type": "code",
   "execution_count": 3,
   "metadata": {},
   "outputs": [
    {
     "name": "stdout",
     "output_type": "stream",
     "text": [
      "True\n",
      "False\n",
      "False\n"
     ]
    }
   ],
   "source": [
    "def is_three_digits(number):\n",
    "    return 100 <= number <= 999\n",
    "\n",
    "# Example usage:\n",
    "print(is_three_digits(150))  # Output: True\n",
    "print(is_three_digits(99))   # Output: False\n",
    "print(is_three_digits(1000)) # Output: False"
   ]
  }
 ],
 "metadata": {
  "kernelspec": {
   "display_name": "Python 3",
   "language": "python",
   "name": "python3"
  },
  "language_info": {
   "codemirror_mode": {
    "name": "ipython",
    "version": 3
   },
   "file_extension": ".py",
   "mimetype": "text/x-python",
   "name": "python",
   "nbconvert_exporter": "python",
   "pygments_lexer": "ipython3",
   "version": "3.12.6"
  }
 },
 "nbformat": 4,
 "nbformat_minor": 2
}
