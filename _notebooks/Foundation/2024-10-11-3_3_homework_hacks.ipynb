{
 "cells": [
  {
   "cell_type": "raw",
   "metadata": {
    "vscode": {
     "languageId": "raw"
    }
   },
   "source": [
    "---\n",
    "toc: true\n",
    "layout: post\n",
    "type: hacks\n",
    "courses: { compsci: {week: 14} }\n",
    "title: 3.3 Popcorn Hacks\n",
    "description: Mihir's Submission for Hacks from Lesson\n",
    "---"
   ]
  },
  {
   "cell_type": "markdown",
   "metadata": {},
   "source": [
    "## Homework Hack\n",
    "\n",
    "Review the instructions and examples in the lesson and create a function that will produce a certain term in the fibonacci sequence that is inputted as well as one that can find the area of a circle, square, and a rectangle by asking for input on what the shape is, and what the value(s) are that are needed to calculate the area of the shape.\n",
    "\n",
    "Challenge: Add one that can do the volume of rectangluar prisms, spheres, and pyramids.\n",
    "\n",
    "Formulas:\n",
    " - Volume of rectangluar prism is base x width x height\n",
    " - Volume of sphere is 4/3 x pi x r cubed\n",
    " - Volume of pyramid is 1/3 x base x width x height"
   ]
  },
  {
   "cell_type": "markdown",
   "metadata": {},
   "source": [
    "# Homework Hack 1: Fibonacci"
   ]
  },
  {
   "cell_type": "code",
   "execution_count": 1,
   "metadata": {},
   "outputs": [
    {
     "name": "stdout",
     "output_type": "stream",
     "text": [
      "The 10th Fibonacci number is: 34\n"
     ]
    }
   ],
   "source": [
    "def fibonacci(n):\n",
    "    if n <= 0:\n",
    "        return \"Input should be a positive integer\"\n",
    "    elif n == 1:\n",
    "        return 0\n",
    "    elif n == 2:\n",
    "        return 1\n",
    "    else:\n",
    "        a, b = 0, 1\n",
    "        for _ in range(2, n):\n",
    "            a, b = b, a + b\n",
    "        return b\n",
    "\n",
    "# Example usage:\n",
    "term = 10\n",
    "print(f\"The {term}th Fibonacci number is: {fibonacci(term)}\")\n"
   ]
  },
  {
   "cell_type": "markdown",
   "metadata": {},
   "source": [
    "# Homework Hack 2: Area Function for Shapes"
   ]
  },
  {
   "cell_type": "code",
   "execution_count": 3,
   "metadata": {},
   "outputs": [
    {
     "name": "stdout",
     "output_type": "stream",
     "text": [
      "The area of the circle is: 78.53975\n"
     ]
    }
   ],
   "source": [
    "def calculate_area():\n",
    "    shape = input(\"Enter the shape (circle, square, rectangle): \").lower()\n",
    "    if shape == \"circle\":\n",
    "        radius = float(input(\"Enter the radius: \"))\n",
    "        area = 3.14159 * radius ** 2\n",
    "        print(f\"The area of the circle is: {area}\")\n",
    "    elif shape == \"square\":\n",
    "        side = float(input(\"Enter the side length: \"))\n",
    "        area = side ** 2\n",
    "        print(f\"The area of the square is: {area}\")\n",
    "    elif shape == \"rectangle\":\n",
    "        width = float(input(\"Enter the width: \"))\n",
    "        height = float(input(\"Enter the height: \"))\n",
    "        area = width * height\n",
    "        print(f\"The area of the rectangle is: {area}\")\n",
    "    else:\n",
    "        print(\"Unknown shape!\")\n",
    "\n",
    "# Example usage:\n",
    "calculate_area()"
   ]
  },
  {
   "cell_type": "markdown",
   "metadata": {},
   "source": [
    "# Popcorn Hack 3: Volume Calculation for 3D Shapes"
   ]
  },
  {
   "cell_type": "code",
   "execution_count": 4,
   "metadata": {},
   "outputs": [
    {
     "name": "stdout",
     "output_type": "stream",
     "text": [
      "The volume of the pyramid is: 105.0\n"
     ]
    }
   ],
   "source": [
    "def calculate_volume():\n",
    "    shape = input(\"Enter the 3D shape (prism, sphere, pyramid): \").lower()\n",
    "    if shape == \"prism\":\n",
    "        base = float(input(\"Enter the base: \"))\n",
    "        width = float(input(\"Enter the width: \"))\n",
    "        height = float(input(\"Enter the height: \"))\n",
    "        volume = base * width * height\n",
    "        print(f\"The volume of the rectangular prism is: {volume}\")\n",
    "    elif shape == \"sphere\":\n",
    "        radius = float(input(\"Enter the radius: \"))\n",
    "        volume = (4/3) * 3.14159 * radius ** 3\n",
    "        print(f\"The volume of the sphere is: {volume}\")\n",
    "    elif shape == \"pyramid\":\n",
    "        base = float(input(\"Enter the base: \"))\n",
    "        width = float(input(\"Enter the width: \"))\n",
    "        height = float(input(\"Enter the height: \"))\n",
    "        volume = (1/3) * base * width * height\n",
    "        print(f\"The volume of the pyramid is: {volume}\")\n",
    "    else:\n",
    "        print(\"Unknown shape!\")\n",
    "\n",
    "# Example usage:\n",
    "calculate_volume()"
   ]
  }
 ],
 "metadata": {
  "kernelspec": {
   "display_name": "Python 3",
   "language": "python",
   "name": "python3"
  },
  "language_info": {
   "codemirror_mode": {
    "name": "ipython",
    "version": 3
   },
   "file_extension": ".py",
   "mimetype": "text/x-python",
   "name": "python",
   "nbconvert_exporter": "python",
   "pygments_lexer": "ipython3",
   "version": "3.12.6"
  }
 },
 "nbformat": 4,
 "nbformat_minor": 2
}
