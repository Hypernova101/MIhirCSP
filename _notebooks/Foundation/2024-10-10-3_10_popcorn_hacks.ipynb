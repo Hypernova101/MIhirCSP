{
 "cells": [
  {
   "cell_type": "raw",
   "metadata": {
    "vscode": {
     "languageId": "raw"
    }
   },
   "source": [
    "---\n",
    "toc: true\n",
    "layout: post\n",
    "type: hacks\n",
    "courses: { compsci: {week: 14} }\n",
    "title: 3.10 Popcorn Hack\n",
    "description: Mihir's Submission for Hacks from Lesson\n",
    "---"
   ]
  },
  {
   "cell_type": "markdown",
   "metadata": {},
   "source": [
    "## Popcorn Hack 1\n",
    "\n",
    "Try making your own list then apend an element"
   ]
  },
  {
   "cell_type": "code",
   "execution_count": 1,
   "metadata": {},
   "outputs": [
    {
     "name": "stdout",
     "output_type": "stream",
     "text": [
      "Updated List: ['apple', 'cherry', 'orange']\n"
     ]
    }
   ],
   "source": [
    "# Create a list\n",
    "my_list = ['apple', 'banana', 'cherry']\n",
    "\n",
    "# Add an element to the list\n",
    "my_list.append('orange')\n",
    "\n",
    "# Delete a different element (for example: 'banana')\n",
    "my_list.remove('banana')\n",
    "\n",
    "# Print the updated list\n",
    "print(\"Updated List:\", my_list)"
   ]
  },
  {
   "cell_type": "markdown",
   "metadata": {},
   "source": [
    "# Popcorn Hack 2\n",
    "Try adding an element\n",
    "Try deleting a different element"
   ]
  },
  {
   "cell_type": "code",
   "execution_count": 2,
   "metadata": {},
   "outputs": [
    {
     "name": "stdout",
     "output_type": "stream",
     "text": [
      "Updated List: ['grape', 'pear', 'mango']\n"
     ]
    }
   ],
   "source": [
    "# Create a list\n",
    "my_list = ['grape', 'watermelon', 'pear']\n",
    "\n",
    "# Add a new element to the list\n",
    "my_list.append('mango')\n",
    "\n",
    "# Delete a different element (for example: 'watermelon')\n",
    "my_list.remove('watermelon')\n",
    "\n",
    "# Print the updated list\n",
    "print(\"Updated List:\", my_list)"
   ]
  },
  {
   "cell_type": "markdown",
   "metadata": {},
   "source": [
    "# Popcorn Hack 3\n",
    "Try changing one of your elements into something new"
   ]
  },
  {
   "cell_type": "code",
   "execution_count": 3,
   "metadata": {},
   "outputs": [
    {
     "name": "stdout",
     "output_type": "stream",
     "text": [
      "Updated List: ['grape', 'apple', 'pear']\n"
     ]
    }
   ],
   "source": [
    "# Create a list\n",
    "my_list = ['grape', 'watermelon', 'pear']\n",
    "\n",
    "# Change the second element ('watermelon') to something new ('apple')\n",
    "my_list[1] = 'apple'\n",
    "\n",
    "# Print the updated list\n",
    "print(\"Updated List:\", my_list)"
   ]
  },
  {
   "cell_type": "markdown",
   "metadata": {},
   "source": [
    "# Popcorn Hack 4\n",
    "\n",
    "Find the minimum value in a list\n",
    "\n",
    "Create or access the list.\n",
    "Make a variable to hold the minimum and set it to a potential minimum value.\n",
    "Loop through the list.\n",
    "Check each element to see if it is less than the minimum variable.\n",
    "If the element is less than the minimum variable, update the minimum.\n",
    "After all elements of the list have been checked, display the minimum value."
   ]
  },
  {
   "cell_type": "code",
   "execution_count": 6,
   "metadata": {},
   "outputs": [
    {
     "name": "stdout",
     "output_type": "stream",
     "text": [
      "The minimum value in the list is: -5\n"
     ]
    }
   ],
   "source": [
    "# Create a list\n",
    "my_list = [23, 1, 45, 78, -5, 34, 2]\n",
    "\n",
    "minimum_value = my_list[0]\n",
    "\n",
    "# Loop through the list starting from the second element\n",
    "for num in my_list[1:]:\n",
    "    # If the current number is less than the minimum, update the minimum\n",
    "    if num < minimum_value:\n",
    "        minimum_value = num\n",
    "\n",
    "# Display the minimum value\n",
    "print(\"The minimum value in the list is:\", minimum_value)"
   ]
  }
 ],
 "metadata": {
  "kernelspec": {
   "display_name": "Python 3",
   "language": "python",
   "name": "python3"
  },
  "language_info": {
   "codemirror_mode": {
    "name": "ipython",
    "version": 3
   },
   "file_extension": ".py",
   "mimetype": "text/x-python",
   "name": "python",
   "nbconvert_exporter": "python",
   "pygments_lexer": "ipython3",
   "version": "3.12.6"
  }
 },
 "nbformat": 4,
 "nbformat_minor": 2
}
