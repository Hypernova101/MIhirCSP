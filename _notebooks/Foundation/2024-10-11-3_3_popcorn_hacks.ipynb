{
 "cells": [
  {
   "cell_type": "raw",
   "metadata": {
    "vscode": {
     "languageId": "raw"
    }
   },
   "source": [
    "---\n",
    "toc: true\n",
    "layout: post\n",
    "type: hacks\n",
    "courses: { compsci: {week: 14} }\n",
    "title: 3.3 Popcorn Hacks\n",
    "description: Mihir's Submission for Hacks from Lesson\n",
    "---"
   ]
  },
  {
   "cell_type": "markdown",
   "metadata": {},
   "source": [
    "## Popcorn Hack 1\n",
    "\n",
    "Write a function that will output a y value for y = 7(x+4)-6 when given an input of an x value."
   ]
  },
  {
   "cell_type": "code",
   "execution_count": 1,
   "metadata": {},
   "outputs": [
    {
     "name": "stdout",
     "output_type": "stream",
     "text": [
      "The result of the calculation is: 57\n"
     ]
    }
   ],
   "source": [
    "def calculate_y(x):\n",
    "    y = 7 * (x + 4) - 6\n",
    "    return y\n",
    "\n",
    "result = calculate_y(5)  # Let's use x = 5 as an example\n",
    "print(f\"The result of the calculation is: {result}\")"
   ]
  },
  {
   "cell_type": "markdown",
   "metadata": {},
   "source": [
    "## Popcorn Hack 2\n",
    "\n",
    "What will the code below print? My guess is 3."
   ]
  },
  {
   "cell_type": "code",
   "execution_count": 3,
   "metadata": {},
   "outputs": [
    {
     "name": "stdout",
     "output_type": "stream",
     "text": [
      "New calculated number: 3\n"
     ]
    }
   ],
   "source": [
    "number1 = 8\n",
    "number2 = 3\n",
    "number3 = (number1 // number2) + 1  # Integer division + 1\n",
    "number4 = number3 * number2 * 2 - 15  # Multiplying by 2 and subtracting 15\n",
    "print(f\"New calculated number: {number4}\")\n"
   ]
  },
  {
   "cell_type": "markdown",
   "metadata": {},
   "source": [
    "# Popcorn Hack 3\n",
    "Create a list of numbers that will all be tested for whether they are divisible by 3. If they are divisible by 3 the output will say that the number is divisible by 3 and if they aren't divisible by 3 the output will be the remainder when the number is divided by 3."
   ]
  },
  {
   "cell_type": "code",
   "execution_count": 4,
   "metadata": {},
   "outputs": [
    {
     "name": "stdout",
     "output_type": "stream",
     "text": [
      "15 is divisible by both 3 and 5\n",
      "20 is divisible by 5\n",
      "9 is divisible by 3\n",
      "11 is not divisible by 3 or 5, remainder by 3: 2, remainder by 5: 1\n",
      "30 is divisible by both 3 and 5\n"
     ]
    }
   ],
   "source": [
    "def check_divisibility(numbers):\n",
    "    for number in numbers:\n",
    "        if number % 3 == 0 and number % 5 == 0:\n",
    "            print(f\"{number} is divisible by both 3 and 5\")\n",
    "        elif number % 3 == 0:\n",
    "            print(f\"{number} is divisible by 3\")\n",
    "        elif number % 5 == 0:\n",
    "            print(f\"{number} is divisible by 5\")\n",
    "        else:\n",
    "            print(f\"{number} is not divisible by 3 or 5, remainder by 3: {number % 3}, remainder by 5: {number % 5}\")\n",
    "\n",
    "numbers = [15, 20, 9, 11, 30]\n",
    "check_divisibility(numbers)"
   ]
  }
 ],
 "metadata": {
  "kernelspec": {
   "display_name": "Python 3",
   "language": "python",
   "name": "python3"
  },
  "language_info": {
   "codemirror_mode": {
    "name": "ipython",
    "version": 3
   },
   "file_extension": ".py",
   "mimetype": "text/x-python",
   "name": "python",
   "nbconvert_exporter": "python",
   "pygments_lexer": "ipython3",
   "version": "3.12.6"
  }
 },
 "nbformat": 4,
 "nbformat_minor": 2
}
