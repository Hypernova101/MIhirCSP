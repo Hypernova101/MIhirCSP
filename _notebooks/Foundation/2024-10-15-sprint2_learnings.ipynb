{
 "cells": [
  {
   "cell_type": "raw",
   "metadata": {
    "vscode": {
     "languageId": "raw"
    }
   },
   "source": [
    "---\n",
    "layout: post\n",
    "title: Sprint 2 - Learnings \n",
    "description:  Team Teach Learning Learning for Sprint 2\n",
    "type: issues \n",
    "comments: true\n",
    "---"
   ]
  },
  {
   "cell_type": "markdown",
   "metadata": {},
   "source": [
    "# Overview\n",
    "Through our learning of topics 3.1, and 3.4, we were able to create a team repo with all the info on the subsections of each topic. In this team teach, we:\n",
    "\n",
    " - Learned and taught other students to use variables, data types, and in-depth strings\n",
    " - Learned to use a group repository and handle forked repositories and merges\n",
    " - Learned how to resolve merge conflicts and fetch push requests from a master branch\n",
    " - Learned and taught how to use mathematical operations in Python\n",
    " - Learned and taught how to effectively perform conditional statements\n",
    " - Learned and taught about data types, and the properties of each one\n",
    " - Learned and taught in-depth string manipulation and use cases\n",
    " - Made mini projects, “hacks,” such as string analyzers and password strength validators\n",
    "\n",
    "By teaching the class about our topics, variables and strings, we were able to deepen our own understanding. We presented a comprehensive, engaging lesson with breakpoints, interactive elements, and snippets of genuine code with in-depth explanations embedded throughout the notebooks. In the process of creating these lessons, we were able to gain a better understanding of the topics and their use cases beyond the simplicity of many of the other hacks presented, such that we’d be able to apply the knowledge to a genuine project at some point in the future. We also designed hacks that reflected real-world use cases, such as our password validator, something seen everywhere, on any website. We also designed a hack around the storage of user info in a database, and the creation of a unique ID designed specifically for each user. These hacks, while simple in theory, reflect concepts seen anywhere in the world of programming, and have applications and implications beyond these mini-lessons. The creation of the hacks and solutions to them displayed our understanding of the concepts and readiness to progress to the next sprint. Overall, the team teaching served as a stepping stone for our improvement and understanding in programming, and our tangibles served as testaments of our readiness for the next stage of the class."
   ]
  },
  {
   "cell_type": "markdown",
   "metadata": {},
   "source": [
    "# Tangibles\n",
    "\n",
    "[3.1.1](https://nighthawkcoders.github.io/portfolio_2025/csp/big-idea/p1/3-1-1)\n",
    "In this lesson, 3.1.1, we taught how to define variables in python and print them.\n",
    "\n",
    "[3.1.2](https://nighthawkcoders.github.io/portfolio_2025/csp/big-idea/p1/3-1-2)\n",
    "In this lesson, 3.1.2, we taught how to perform operations using variables that are integers.\n",
    "\n",
    "[3.1.3](https://nighthawkcoders.github.io/portfolio_2025/csp/big-idea/p1/3-1-3)\n",
    "In this lesson, 3.1.3, we taught how to define a variable through user input, therefore printing an output from this user input.\n",
    "\n",
    "[3.1.4](https://nighthawkcoders.github.io/portfolio_2025/csp/big-idea/p1/3-1-4)\n",
    "In this lesson, 3.1.4, we taught how to define and print strings in python.\n",
    "\n",
    "[3.1.5](https://nighthawkcoders.github.io/portfolio_2025/csp/big-idea/p1/3-1-5)\n",
    "In this lesson, 3.1.5, we taught how to perform operations with strings using string concatenation.\n",
    "\n",
    "[3.4.1](https://nighthawkcoders.github.io/portfolio_2025/csp/big-idea/p1/3-4-1-python-strings)\n",
    "In this lesson, 3.4.1, we taught the basics of string analysis including creating substrings and case conversion in python. We also provided a sample string analyzer.\n",
    "\n",
    "[3.4.2](https://nighthawkcoders.github.io/portfolio_2025/csp/big-idea/p1/3-4-2-js-strings)\n",
    "In this lesson, 3.4.2, we taught the basics of string analysis including creating substrings and case conversion in javascript. We also provided a sample string analyzer.\n",
    "\n",
    "[3.4.3](https://nighthawkcoders.github.io/portfolio_2025/csp/big-idea/p1/3-4-3-python-hack)\n",
    "In this lesson, 3.4.3, we did a walkthrough of a password validator and examples how we used string manipulation to make it work."
   ]
  },
  {
   "cell_type": "markdown",
   "metadata": {},
   "source": []
  }
 ],
 "metadata": {
  "language_info": {
   "name": "python"
  }
 },
 "nbformat": 4,
 "nbformat_minor": 2
}
