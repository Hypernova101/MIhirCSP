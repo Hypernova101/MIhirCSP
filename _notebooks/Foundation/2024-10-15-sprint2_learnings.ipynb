{
 "cells": [
  {
   "cell_type": "raw",
   "metadata": {
    "vscode": {
     "languageId": "raw"
    }
   },
   "source": [
    "---\n",
    "layout: post\n",
    "title: Sprint 2 - Individual Learnings \n",
    "description:  Team Teach Learning Learning for Sprint 2\n",
    "type: issues \n",
    "comments: true\n",
    "---"
   ]
  },
  {
   "cell_type": "markdown",
   "metadata": {},
   "source": [
    "Through our study of topics 3.1 and 3.4, we created a team repository containing detailed information on the subsections of each topic. In this team teaching experience, we:\n",
    "\n",
    "- Learned and taught our peers how to use variables, data types, and advanced string operations\n",
    "- Gained experience using a group repository, handling forked repositories, and managing merges\n",
    "- Developed skills to resolve merge conflicts and fetch pull requests from the main branch\n",
    "- Taught and learned how to perform mathematical operations in Python\n",
    "- Explained and demonstrated effective use of conditional statements\n",
    "- Explored data types in-depth, highlighting the unique properties of each\n",
    "- Provided in-depth instruction on string manipulation and its various use cases\n",
    "- Created mini-projects or \"hacks,\" such as string analyzers and password strength validators\n",
    "\n",
    "By teaching the class about variables and strings, we solidified our own understanding. Our lesson was comprehensive and engaging, featuring breakpoints, interactive elements, and live code snippets with detailed explanations in the notebooks. Through the process of creating these lessons, we gained a deeper understanding of the topics and their practical applications beyond basic examples, enabling us to apply this knowledge in future projects.\n",
    "\n",
    "We also designed hacks that reflected real-world scenarios, such as our password validator, a feature found on nearly every website, and a hack focused on storing user information in a database and generating unique IDs for each user. While simple in concept, these hacks illustrate programming principles that are widely applicable in the field. They also showcased our grasp of the concepts and our readiness to move forward.\n",
    "\n",
    "Overall, this team teaching project was a stepping stone in our growth as programmers, and our tangible outputs are a testament to our preparedness for the next stage of the class."
   ]
  },
  {
   "cell_type": "markdown",
   "metadata": {},
   "source": [
    "# Tangibles\n",
    "\n",
    "[3.1.1](https://nighthawkcoders.github.io/portfolio_2025/csp/big-idea/p1/3-1-1)\n",
    "In this lesson, 3.1.1, we taught how to define variables in python and print them.\n",
    "\n",
    "[3.1.2](https://nighthawkcoders.github.io/portfolio_2025/csp/big-idea/p1/3-1-2)\n",
    "In this lesson, 3.1.2, we taught how to perform operations using variables that are integers.\n",
    "\n",
    "[3.1.3](https://nighthawkcoders.github.io/portfolio_2025/csp/big-idea/p1/3-1-3)\n",
    "In this lesson, 3.1.3, we taught how to define a variable through user input, therefore printing an output from this user input.\n",
    "\n",
    "[3.1.4](https://nighthawkcoders.github.io/portfolio_2025/csp/big-idea/p1/3-1-4)\n",
    "In this lesson, 3.1.4, we taught how to define and print strings in python.\n",
    "\n",
    "[3.1.5](https://nighthawkcoders.github.io/portfolio_2025/csp/big-idea/p1/3-1-5)\n",
    "In this lesson, 3.1.5, we taught how to perform operations with strings using string concatenation.\n",
    "\n",
    "[3.4.1](https://nighthawkcoders.github.io/portfolio_2025/csp/big-idea/p1/3-4-1-python-strings)\n",
    "In this lesson, 3.4.1, we taught the basics of string analysis including creating substrings and case conversion in python. We also provided a sample string analyzer.\n",
    "\n",
    "[3.4.2](https://nighthawkcoders.github.io/portfolio_2025/csp/big-idea/p1/3-4-2-js-strings)\n",
    "In this lesson, 3.4.2, we taught the basics of string analysis including creating substrings and case conversion in javascript. We also provided a sample string analyzer.\n",
    "\n",
    "[3.4.3](https://nighthawkcoders.github.io/portfolio_2025/csp/big-idea/p1/3-4-3-python-hack)\n",
    "In this lesson, 3.4.3, we did a walkthrough of a password validator and examples how we used string manipulation to make it work."
   ]
  },
  {
   "cell_type": "markdown",
   "metadata": {},
   "source": [
    "# Self Grading"
   ]
  },
  {
   "cell_type": "markdown",
   "metadata": {},
   "source": [
    "| **Assignment**             | **Points**    | **Grade** | **Evidence** |\n",
    "|----------------------------|---------------|-----------|--------------|\n",
    "| Baseline Grade             | 55%           |    55%       |              |\n",
    "| Max Grade                  | 90%           |           |              |\n",
    "| Pull Request (Integration) | 1             |    0.85       |     on main fork         |\n",
    "| Relevancy Checklist (Peer) | 2             |    1.5       |     [Here](https://docs.google.com/spreadsheets/d/1Voj9QMs55uTtPQm7kKColVbtayhUNU3HgdHX6sgAizs/edit?gid=0#gid=0)         |\n",
    "| Lesson Style (Period)      | 1             |    0.99       |    [Here](https://docs.google.com/spreadsheets/d/1Voj9QMs55uTtPQm7kKColVbtayhUNU3HgdHX6sgAizs/edit?gid=0#gid=0)          |\n",
    "| Homework, Popcorn Hacks    | 1 x 5         |    5       |    [Here](https://nighthawkcoders.github.io/portfolio_2025/csp/big-idea/p1/3-4)          |\n",
    "| Individual Contribution    | 1             |    0.99       |    [Here](https://github.com/nighthawkcoders/portfolio_2025/commits?author=Hypernova101)          |\n",
    "| Personal Notebooks / Blogs | 1             |    0.99       |    [Here](https://github.com/Hypernova101/MihirCSP/tree/main/_notebooks/Foundation)          |\n",
    "| Total                      | 11            |    10.35       |              |\n",
    "\n",
    "\n",
    "| **Skill**                  | **Points**    | **Grade** | **Evidence** |\n",
    "|----------------------------|---------------|-----------|--------------|\n",
    "| Work Habits (Analytics)    |   1           |     1      |     [Here](https://github.com/nighthawkcoders/portfolio_2025/commits?author=Hypernova101)         |\n",
    "| Team Planning (Issue)      |   1           |    1       |     [Here](https://github.com/Hypernova101/MihirCSP/issues/9)         |\n",
    "| Presentation Memories      |   1           |     0.9      |              |\n",
    "| Grading and Feedback       |   1           |     0.99      |     [Here](https://docs.google.com/spreadsheets/d/1Voj9QMs55uTtPQm7kKColVbtayhUNU3HgdHX6sgAizs/edit?gid=0#gid=0)         |\n",
    "| Beyond Perfunctory         |   1           |     0.8      |              | "
   ]
  },
  {
   "cell_type": "markdown",
   "metadata": {},
   "source": [
    "**Total Score**: 9.9/11"
   ]
  }
 ],
 "metadata": {
  "language_info": {
   "name": "python"
  }
 },
 "nbformat": 4,
 "nbformat_minor": 2
}
