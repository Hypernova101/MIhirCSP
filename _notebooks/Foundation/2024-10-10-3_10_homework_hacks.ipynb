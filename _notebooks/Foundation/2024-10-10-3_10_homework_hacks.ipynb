{
 "cells": [
  {
   "cell_type": "raw",
   "metadata": {
    "vscode": {
     "languageId": "raw"
    }
   },
   "source": [
    "---\n",
    "toc: true\n",
    "layout: post\n",
    "type: hacks\n",
    "courses: { compsci: {week: 14} }\n",
    "title: 3.10 Homework Hack\n",
    "description: Mihir's Submission for Homework Hack\n",
    "---"
   ]
  },
  {
   "cell_type": "markdown",
   "metadata": {},
   "source": [
    "## Homework Hack 1\n",
    "\n",
    "Find the sum of even numbers in a list"
   ]
  },
  {
   "cell_type": "code",
   "execution_count": 1,
   "metadata": {},
   "outputs": [
    {
     "name": "stdout",
     "output_type": "stream",
     "text": [
      "The sum of even numbers is: 106\n"
     ]
    }
   ],
   "source": [
    "# Create a list of numbers\n",
    "my_list = [23, 2, 4, 55, 78, 33, 12, 10]\n",
    "\n",
    "even_sum = 0\n",
    "\n",
    "# Loop through the list and add only even numbers\n",
    "for num in my_list:\n",
    "    if num % 2 == 0:\n",
    "        even_sum += num\n",
    "\n",
    "# Print the sum of even numbers\n",
    "print(\"The sum of even numbers is:\", even_sum)"
   ]
  },
  {
   "cell_type": "markdown",
   "metadata": {},
   "source": [
    "# Homework Hack 2\n",
    "\n",
    "Find the minimum and maximum values in a list"
   ]
  },
  {
   "cell_type": "code",
   "execution_count": 2,
   "metadata": {},
   "outputs": [
    {
     "name": "stdout",
     "output_type": "stream",
     "text": [
      "The minimum value is: 2\n",
      "The maximum value is: 78\n"
     ]
    }
   ],
   "source": [
    "# Create a list of numbers\n",
    "my_list = [23, 2, 4, 55, 78, 33, 12, 10]\n",
    "\n",
    "minimum_value = my_list[0]\n",
    "maximum_value = my_list[0]\n",
    "\n",
    "# Loop through the list to find min and max\n",
    "for num in my_list:\n",
    "    if num < minimum_value:\n",
    "        minimum_value = num\n",
    "    if num > maximum_value:\n",
    "        maximum_value = num\n",
    "\n",
    "# Print the minimum and maximum values\n",
    "print(\"The minimum value is:\", minimum_value)\n",
    "print(\"The maximum value is:\", maximum_value)"
   ]
  }
 ],
 "metadata": {
  "kernelspec": {
   "display_name": "Python 3",
   "language": "python",
   "name": "python3"
  },
  "language_info": {
   "codemirror_mode": {
    "name": "ipython",
    "version": 3
   },
   "file_extension": ".py",
   "mimetype": "text/x-python",
   "name": "python",
   "nbconvert_exporter": "python",
   "pygments_lexer": "ipython3",
   "version": "3.12.6"
  }
 },
 "nbformat": 4,
 "nbformat_minor": 2
}
