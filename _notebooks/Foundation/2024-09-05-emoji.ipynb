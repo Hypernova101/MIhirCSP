{
 "cells": [
  {
   "cell_type": "raw",
   "metadata": {
    "vscode": {
     "languageId": "raw"
    }
   },
   "source": [
    "---\n",
    "toc: true\n",
    "layout: post\n",
    "type: hacks\n",
    "courses: { compsci: {week: 14} }\n",
    "title: Emoji Hack - Mihir\n",
    "description: Blog of using Emojis\n",
    "---"
   ]
  },
  {
   "cell_type": "markdown",
   "metadata": {},
   "source": []
  },
  {
   "cell_type": "code",
   "execution_count": 8,
   "metadata": {},
   "outputs": [
    {
     "name": "stdout",
     "output_type": "stream",
     "text": [
      "👍 Liverpool Football Club is the best soccer team in the world. 😀\n",
      "\n",
      "Liverpool FC is one of the most iconic football clubs in the world! ⚽🔴\n",
      "Known for their passionate fans, the famous Kop 🎶 and their rich history,\n",
      "They've won numerous Premier League 🏆 and Champions League titles 🌍\n",
      "Legends like Steven Gerrard and Mohamed Salah have graced the pitch at Anfield 🏟️\n",
      "Where the atmosphere is electric! YNWA (You'll Never Walk Alone) 🎵🔥 is not just a motto,\n",
      "It's a way of life for the Reds!\n"
     ]
    }
   ],
   "source": []
  },
  {
   "cell_type": "markdown",
   "metadata": {},
   "source": [
    "<h6>To Learn More Information About Liverpool Football Club,</h6>\n",
    "<a href=\"https://www.liverpoolfc.com/\">\n",
    "  <button>Click Here</button>\n",
    "</a>"
   ]
  }
 ],
 "metadata": {
  "kernelspec": {
   "display_name": "Python 3",
   "language": "python",
   "name": "python3"
  },
  "language_info": {
   "codemirror_mode": {
    "name": "ipython",
    "version": 3
   },
   "file_extension": ".py",
   "mimetype": "text/x-python",
   "name": "python",
   "nbconvert_exporter": "python",
   "pygments_lexer": "ipython3",
   "version": "3.10.12"
  }
 },
 "nbformat": 4,
 "nbformat_minor": 2
}
