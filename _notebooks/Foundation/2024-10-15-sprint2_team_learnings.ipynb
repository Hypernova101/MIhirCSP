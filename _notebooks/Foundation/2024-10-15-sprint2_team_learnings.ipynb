{
 "cells": [
  {
   "cell_type": "raw",
   "metadata": {
    "vscode": {
     "languageId": "raw"
    }
   },
   "source": [
    "---\n",
    "layout: post\n",
    "title: Sprint 2 - Learnings \n",
    "description:  Team Learnings for Sprint 2\n",
    "type: issues \n",
    "comments: true\n",
    "---"
   ]
  },
  {
   "cell_type": "markdown",
   "metadata": {},
   "source": [
    "# Individual Issues\n",
    "[Mihir](https://hypernova101.github.io/MihirCSP/2024/10/15/sprint2_learnings_IPYNB_2_.html)\n",
    "[Ansh]()\n",
    "[Derek]()\n",
    "[Pradyun]()"
   ]
  }
 ],
 "metadata": {
  "language_info": {
   "name": "python"
  }
 },
 "nbformat": 4,
 "nbformat_minor": 2
}
