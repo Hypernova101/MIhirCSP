{
 "cells": [
  {
   "cell_type": "raw",
   "metadata": {
    "vscode": {
     "languageId": "raw"
    }
   },
   "source": [
    "---\n",
    "toc: true\n",
    "layout: post\n",
    "type: hacks\n",
    "courses: { compsci: {week: 14} }\n",
    "title: 3.7 Popcorn and Homework Hacks\n",
    "description: Mihir's Submission for Hacks from Lesson\n",
    "---"
   ]
  },
  {
   "cell_type": "markdown",
   "metadata": {},
   "source": [
    "## Homework Hacks\n",
    "\n",
    "Write pseudocode to determine if a student passes a class based on their exam scores and attendance using nested conditionals.\n",
    "\n",
    "Write a python segment to decide the shipping cost based on the weight of a package and the delivery speed chosen (standard or express) using nested conditionals.\n",
    "\n",
    "Write a python segment to have different ticket prices for different ages, with a discount for students"
   ]
  },
  {
   "cell_type": "markdown",
   "metadata": {},
   "source": [
    "# 1. PSEUDO CODE"
   ]
  },
  {
   "cell_type": "code",
   "execution_count": null,
   "metadata": {
    "vscode": {
     "languageId": "latex"
    }
   },
   "outputs": [],
   "source": [
    "START\n",
    "   INPUT exam_score\n",
    "   INPUT attendance_rate\n",
    "   \n",
    "   IF exam_score >= 50 THEN\n",
    "      IF attendance_rate >= 75 THEN\n",
    "         PRINT \"Student passes the class.\"\n",
    "      ELSE\n",
    "         PRINT \"Student fails due to low attendance.\"\n",
    "      END IF\n",
    "   ELSE\n",
    "      PRINT \"Student fails due to low exam score.\"\n",
    "   END IF\n",
    "END"
   ]
  },
  {
   "cell_type": "markdown",
   "metadata": {},
   "source": [
    "# 2. Python code to decide the shipping cost based on the weight of a package and the delivery speed using nested conditionals"
   ]
  },
  {
   "cell_type": "code",
   "execution_count": 2,
   "metadata": {},
   "outputs": [
    {
     "name": "stdout",
     "output_type": "stream",
     "text": [
      "The shipping cost is $30.0.\n"
     ]
    }
   ],
   "source": [
    "# Input the weight of the package and delivery speed\n",
    "weight = float(input(\"Enter the weight of the package (in kg): \"))\n",
    "delivery_speed = input(\"Enter the delivery speed (standard/express): \").lower()\n",
    "\n",
    "# Determine the shipping cost using nested conditionals\n",
    "if delivery_speed == \"standard\":\n",
    "    if weight <= 1:\n",
    "        cost = 5.00\n",
    "    elif weight <= 5:\n",
    "        cost = 10.00\n",
    "    else:\n",
    "        cost = 15.00\n",
    "elif delivery_speed == \"express\":\n",
    "    if weight <= 1:\n",
    "        cost = 10.00\n",
    "    elif weight <= 5:\n",
    "        cost = 20.00\n",
    "    else:\n",
    "        cost = 30.00\n",
    "else:\n",
    "    cost = 0\n",
    "    print(\"Invalid delivery speed.\")\n",
    "\n",
    "# Output the shipping cost\n",
    "if cost > 0:\n",
    "    print(f\"The shipping cost is ${cost}.\")\n"
   ]
  },
  {
   "cell_type": "markdown",
   "metadata": {},
   "source": [
    "# 3. Python code to have different ticket prices for different ages, with a discount for students"
   ]
  },
  {
   "cell_type": "code",
   "execution_count": 3,
   "metadata": {},
   "outputs": [
    {
     "name": "stdout",
     "output_type": "stream",
     "text": [
      "The ticket price is $8.00.\n"
     ]
    }
   ],
   "source": [
    "# Input the age and student status\n",
    "age = int(input(\"Enter your age: \"))\n",
    "student_status = input(\"Are you a student? (yes/no): \").lower()\n",
    "\n",
    "# Determine the ticket price using nested conditionals\n",
    "if age < 12:\n",
    "    ticket_price = 5.00\n",
    "elif age >= 12 and age <= 18:\n",
    "    ticket_price = 10.00\n",
    "elif age > 18 and age < 60:\n",
    "    ticket_price = 15.00\n",
    "else:\n",
    "    ticket_price = 7.00\n",
    "\n",
    "# Apply student discount if applicable\n",
    "if student_status == \"yes\":\n",
    "    ticket_price *= 0.80  # 20% discount for students\n",
    "\n",
    "# Output the final ticket price\n",
    "print(f\"The ticket price is ${ticket_price:.2f}.\")"
   ]
  },
  {
   "cell_type": "markdown",
   "metadata": {},
   "source": [
    "# CHALLENGE Hack"
   ]
  },
  {
   "cell_type": "code",
   "execution_count": 5,
   "metadata": {},
   "outputs": [
    {
     "name": "stdout",
     "output_type": "stream",
     "text": [
      "This is an Isosceles Triangle (Two sides are equal).\n"
     ]
    }
   ],
   "source": [
    "# Function to check if the sides form a valid triangle\n",
    "def is_valid_triangle(a, b, c):\n",
    "    return a + b > c and b + c > a and c + a > b\n",
    "\n",
    "# Get the lengths of the triangle sides from the user\n",
    "a = float(input(\"Enter the length of side 1: \"))\n",
    "b = float(input(\"Enter the length of side 2: \"))\n",
    "c = float(input(\"Enter the length of side 3: \"))\n",
    "\n",
    "# Check if inputs are positive numbers\n",
    "if a <= 0 or b <= 0 or c <= 0:\n",
    "    print(\"Error: All sides must be positive numbers.\")\n",
    "else:\n",
    "    # Check if the sides form a valid triangle\n",
    "    if is_valid_triangle(a, b, c):\n",
    "        # Determine the type of triangle\n",
    "        if a == b == c:\n",
    "            print(\"This is an Equilateral Triangle (All sides are equal).\")\n",
    "        elif a == b or b == c or c == a:\n",
    "            print(\"This is an Isosceles Triangle (Two sides are equal).\")\n",
    "        else:\n",
    "            print(\"This is a Scalene Triangle (No sides are equal).\")\n",
    "    else:\n",
    "        print(\"The sides do not form a valid triangle.\")"
   ]
  }
 ],
 "metadata": {
  "kernelspec": {
   "display_name": "Python 3",
   "language": "python",
   "name": "python3"
  },
  "language_info": {
   "codemirror_mode": {
    "name": "ipython",
    "version": 3
   },
   "file_extension": ".py",
   "mimetype": "text/x-python",
   "name": "python",
   "nbconvert_exporter": "python",
   "pygments_lexer": "ipython3",
   "version": "3.12.6"
  }
 },
 "nbformat": 4,
 "nbformat_minor": 2
}
