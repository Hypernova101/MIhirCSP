{
 "cells": [
  {
   "cell_type": "raw",
   "metadata": {
    "vscode": {
     "languageId": "raw"
    }
   },
   "source": [
    "---\n",
    "toc: true\n",
    "layout: post\n",
    "type: hacks\n",
    "courses: { compsci: {week: 14} }\n",
    "title: 3.6 Popcorn and Homework Hacks\n",
    "description: Mihir's Submission for Hacks from Lesson\n",
    "---"
   ]
  },
  {
   "cell_type": "markdown",
   "metadata": {},
   "source": [
    "## Homework Hacks\n",
    "\n",
    "Write a Python program that takes two numbers as input from the user. The program should:\n",
    "\n",
    "Determine if the numbers are equal.\n",
    "If the numbers are different, print which number is larger."
   ]
  },
  {
   "cell_type": "code",
   "execution_count": 1,
   "metadata": {},
   "outputs": [
    {
     "name": "stdout",
     "output_type": "stream",
     "text": [
      "The first number 0.8 is larger.\n"
     ]
    }
   ],
   "source": [
    "# Take two numbers as input from the user\n",
    "num1 = float(input(\"Enter the first number: \"))\n",
    "num2 = float(input(\"Enter the second number: \"))\n",
    "\n",
    "# Determine if the numbers are equal\n",
    "if num1 == num2:\n",
    "    print(\"The numbers are equal.\")\n",
    "else:\n",
    "    # Print which number is larger\n",
    "    if num1 > num2:\n",
    "        print(f\"The first number {num1} is larger.\")\n",
    "    else:\n",
    "        print(f\"The second number {num2} is larger.\")"
   ]
  }
 ],
 "metadata": {
  "kernelspec": {
   "display_name": "Python 3",
   "language": "python",
   "name": "python3"
  },
  "language_info": {
   "codemirror_mode": {
    "name": "ipython",
    "version": 3
   },
   "file_extension": ".py",
   "mimetype": "text/x-python",
   "name": "python",
   "nbconvert_exporter": "python",
   "pygments_lexer": "ipython3",
   "version": "3.12.6"
  }
 },
 "nbformat": 4,
 "nbformat_minor": 2
}
