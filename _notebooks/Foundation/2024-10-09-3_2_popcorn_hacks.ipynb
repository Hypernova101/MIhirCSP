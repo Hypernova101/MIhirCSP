{
 "cells": [
  {
   "cell_type": "raw",
   "metadata": {
    "vscode": {
     "languageId": "raw"
    }
   },
   "source": [
    "---\n",
    "toc: true\n",
    "layout: post\n",
    "type: hacks\n",
    "courses: { compsci: {week: 14} }\n",
    "title: 3.2 Popcorn Hacks\n",
    "description: Mihir's Submission for Hacks from Lesson\n",
    "---"
   ]
  },
  {
   "cell_type": "markdown",
   "metadata": {},
   "source": [
    "## Popcorn Hack 1\n",
    "\n",
    "Create a list of data that could work with your GitHub Pages Blog Topic. For example, if your blog was about movies from different genres, make a list of movies for every genre."
   ]
  },
  {
   "cell_type": "code",
   "execution_count": 1,
   "metadata": {},
   "outputs": [
    {
     "name": "stdout",
     "output_type": "stream",
     "text": [
      "\n",
      "Forwards:\n",
      " - Mohamed Salah\n",
      " - Darwin Núñez\n",
      " - Diogo Jota\n",
      " - Luis Díaz\n",
      "\n",
      "Midfielders:\n",
      " - Alexis Mac Allister\n",
      " - Dominik Szoboszlai\n",
      " - Curtis Jones\n",
      " - Ryan Gravenberch\n",
      "\n",
      "Defenders:\n",
      " - Virgil van Dijk\n",
      " - Ibrahima Konaté\n",
      " - Trent Alexander-Arnold\n",
      " - Andrew Robertson\n",
      "\n",
      "Goalkeepers:\n",
      " - Alisson Becker\n",
      " - Caoimhin Kelleher\n"
     ]
    }
   ],
   "source": [
    "# Define a dictionary with Liverpool FC players categorized by positions\n",
    "liverpool_fc = {\n",
    "    \"Forwards\": [\"Mohamed Salah\", \"Darwin Núñez\", \"Diogo Jota\", \"Luis Díaz\"],\n",
    "    \"Midfielders\": [\"Alexis Mac Allister\", \"Dominik Szoboszlai\", \"Curtis Jones\", \"Ryan Gravenberch\"],\n",
    "    \"Defenders\": [\"Virgil van Dijk\", \"Ibrahima Konaté\", \"Trent Alexander-Arnold\", \"Andrew Robertson\"],\n",
    "    \"Goalkeepers\": [\"Alisson Becker\", \"Caoimhin Kelleher\"]\n",
    "}\n",
    "\n",
    "# New function to print Liverpool FC players by position\n",
    "def print_liverpool_fc(team):\n",
    "    for position, players in team.items():\n",
    "        print(f\"\\n{position}:\")\n",
    "        for player in players:\n",
    "            print(f\" - {player}\")\n",
    "\n",
    "# Call the function to display Liverpool FC players\n",
    "print_liverpool_fc(liverpool_fc)"
   ]
  },
  {
   "cell_type": "markdown",
   "metadata": {},
   "source": [
    "## Hack 2\n",
    "\n",
    "Try creating a dictionary for your github homepage that contains what was within each sprint. For example, in Sprint 1, we had frontend development, github pages playgroud, and javascript playground."
   ]
  },
  {
   "cell_type": "code",
   "execution_count": 2,
   "metadata": {},
   "outputs": [
    {
     "name": "stdout",
     "output_type": "stream",
     "text": [
      "\n",
      "Sprint1:\n",
      "Tasks: ['Frontend Development', 'Github Pages Playground', 'Javascript Playground']\n",
      "Duration: 2 weeks\n",
      "Team Members: ['Mihir', 'Ansh', 'Derek', 'Pradyun']\n",
      "\n",
      "Sprint2:\n",
      "Tasks: ['Big Ideas 3.1', 'Big Ideas 3.2', 'Big Ideas 3.3', 'Big Ideas 3.4', 'Big Ideas 3.5', 'Big Ideas 3.6', 'Big Ideas 3.7', 'Big Ideas 3.8', 'Big Ideas 3.10']\n",
      "Duration: 1 week\n",
      "Team Members: ['Mihir', 'Ansh', 'Derek', 'Pradyun']\n"
     ]
    }
   ],
   "source": [
    "# Define a dictionary with sprints as keys and details as a nested dictionary\n",
    "sprints = {\n",
    "    'Sprint1': {\n",
    "        'Tasks': ['Frontend Development', 'Github Pages Playground', 'Javascript Playground'],\n",
    "        'Duration': '2 weeks',\n",
    "        'Team Members': ['Mihir', 'Ansh', 'Derek', 'Pradyun']\n",
    "    },\n",
    "    'Sprint2': {\n",
    "        'Tasks': ['Big Ideas 3.1','Big Ideas 3.2','Big Ideas 3.3','Big Ideas 3.4','Big Ideas 3.5','Big Ideas 3.6','Big Ideas 3.7','Big Ideas 3.8','Big Ideas 3.10'],\n",
    "        'Duration': '1 week',\n",
    "        'Team Members': ['Mihir', 'Ansh', 'Derek', 'Pradyun']\n",
    "    }\n",
    "}\n",
    "\n",
    "# Function to print details about the sprints\n",
    "def print_sprint_details(sprint_data):\n",
    "    for sprint, details in sprint_data.items():\n",
    "        print(f\"\\n{sprint}:\")\n",
    "        for key, value in details.items():\n",
    "            print(f\"{key}: {value}\")\n",
    "\n",
    "# Call the function to display sprint details\n",
    "print_sprint_details(sprints)\n"
   ]
  }
 ],
 "metadata": {
  "kernelspec": {
   "display_name": "Python 3",
   "language": "python",
   "name": "python3"
  },
  "language_info": {
   "codemirror_mode": {
    "name": "ipython",
    "version": 3
   },
   "file_extension": ".py",
   "mimetype": "text/x-python",
   "name": "python",
   "nbconvert_exporter": "python",
   "pygments_lexer": "ipython3",
   "version": "3.12.6"
  }
 },
 "nbformat": 4,
 "nbformat_minor": 2
}
