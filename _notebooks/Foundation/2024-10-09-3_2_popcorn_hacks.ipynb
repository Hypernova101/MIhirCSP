{
 "cells": [
  {
   "cell_type": "raw",
   "metadata": {
    "vscode": {
     "languageId": "raw"
    }
   },
   "source": [
    "---\n",
    "toc: true\n",
    "layout: post\n",
    "type: hacks\n",
    "courses: { compsci: {week: 14} }\n",
    "title: 3.2 Popcorn Hacks\n",
    "description: Mihir's Submission for Hacks from Lesson\n",
    "---"
   ]
  },
  {
   "cell_type": "markdown",
   "metadata": {},
   "source": [
    "## Popcorn Hack 1\n",
    "\n",
    "Create a list of data that could work with your GitHub Pages Blog Topic. For example, if your blog was about movies from different genres, make a list of movies for every genre."
   ]
  },
  {
   "cell_type": "code",
   "execution_count": 1,
   "metadata": {},
   "outputs": [
    {
     "name": "stdout",
     "output_type": "stream",
     "text": [
      "\n",
      "Forwards:\n",
      " - Mohamed Salah\n",
      " - Darwin Núñez\n",
      " - Diogo Jota\n",
      " - Luis Díaz\n",
      "\n",
      "Midfielders:\n",
      " - Alexis Mac Allister\n",
      " - Dominik Szoboszlai\n",
      " - Curtis Jones\n",
      " - Ryan Gravenberch\n",
      "\n",
      "Defenders:\n",
      " - Virgil van Dijk\n",
      " - Ibrahima Konaté\n",
      " - Trent Alexander-Arnold\n",
      " - Andrew Robertson\n",
      "\n",
      "Goalkeepers:\n",
      " - Alisson Becker\n",
      " - Caoimhin Kelleher\n"
     ]
    }
   ],
   "source": [
    "# Define a dictionary with Liverpool FC players categorized by positions\n",
    "liverpool_fc = {\n",
    "    \"Forwards\": [\"Mohamed Salah\", \"Darwin Núñez\", \"Diogo Jota\", \"Luis Díaz\"],\n",
    "    \"Midfielders\": [\"Alexis Mac Allister\", \"Dominik Szoboszlai\", \"Curtis Jones\", \"Ryan Gravenberch\"],\n",
    "    \"Defenders\": [\"Virgil van Dijk\", \"Ibrahima Konaté\", \"Trent Alexander-Arnold\", \"Andrew Robertson\"],\n",
    "    \"Goalkeepers\": [\"Alisson Becker\", \"Caoimhin Kelleher\"]\n",
    "}\n",
    "\n",
    "# New function to print Liverpool FC players by position\n",
    "def print_liverpool_fc(team):\n",
    "    for position, players in team.items():\n",
    "        print(f\"\\n{position}:\")\n",
    "        for player in players:\n",
    "            print(f\" - {player}\")\n",
    "\n",
    "# Call the function to display Liverpool FC players\n",
    "print_liverpool_fc(liverpool_fc)"
   ]
  },
  {
   "cell_type": "markdown",
   "metadata": {},
   "source": [
    "## OPTIONAL Popcorn Hack 2\n",
    "\n",
    "Try creating a dictionary for your github homepage that contains what was within each sprint. For example, in Sprint 1, we had frontend development, github pages playgroud, and javascript playground."
   ]
  },
  {
   "cell_type": "code",
   "execution_count": 2,
   "metadata": {},
   "outputs": [
    {
     "name": "stdout",
     "output_type": "stream",
     "text": [
      "\n",
      "Sprint1:\n",
      "Tasks: ['Frontend Development', 'Github Pages Playground', 'Javascript Playground']\n",
      "Duration: 2 weeks\n",
      "Team Members: ['Mihir', 'Ansh', 'Derek', 'Pradyun']\n",
      "\n",
      "Sprint2:\n",
      "Tasks: ['Big Ideas 3.1', 'Big Ideas 3.2', 'Big Ideas 3.3', 'Big Ideas 3.4', 'Big Ideas 3.5', 'Big Ideas 3.6', 'Big Ideas 3.7', 'Big Ideas 3.8', 'Big Ideas 3.10']\n",
      "Duration: 1 week\n",
      "Team Members: ['Mihir', 'Ansh', 'Derek', 'Pradyun']\n"
     ]
    }
   ],
   "source": [
    "# Define a dictionary with sprints as keys and details as a nested dictionary\n",
    "sprints = {\n",
    "    'Sprint1': {\n",
    "        'Tasks': ['Frontend Development', 'Github Pages Playground', 'Javascript Playground'],\n",
    "        'Duration': '2 weeks',\n",
    "        'Team Members': ['Mihir', 'Ansh', 'Derek', 'Pradyun']\n",
    "    },\n",
    "    'Sprint2': {\n",
    "        'Tasks': ['Big Ideas 3.1','Big Ideas 3.2','Big Ideas 3.3','Big Ideas 3.4','Big Ideas 3.5','Big Ideas 3.6','Big Ideas 3.7','Big Ideas 3.8','Big Ideas 3.10'],\n",
    "        'Duration': '1 week',\n",
    "        'Team Members': ['Mihir', 'Ansh', 'Derek', 'Pradyun']\n",
    "    }\n",
    "}\n",
    "\n",
    "# Function to print details about the sprints\n",
    "def print_sprint_details(sprint_data):\n",
    "    for sprint, details in sprint_data.items():\n",
    "        print(f\"\\n{sprint}:\")\n",
    "        for key, value in details.items():\n",
    "            print(f\"{key}: {value}\")\n",
    "\n",
    "# Call the function to display sprint details\n",
    "print_sprint_details(sprints)\n"
   ]
  },
  {
   "cell_type": "markdown",
   "metadata": {},
   "source": [
    "# Popcorn Hack 3\n",
    "Create a mix of list and dictionaries to represent a real world collection of data. I will do a car rental system."
   ]
  },
  {
   "cell_type": "code",
   "execution_count": 3,
   "metadata": {},
   "outputs": [
    {
     "name": "stdout",
     "output_type": "stream",
     "text": [
      "Model: Tesla Model 3\n",
      "Manufacturer: Tesla\n",
      "Rental Rate: $150 per day\n",
      "Available: Yes\n",
      "Renters:\n",
      " - John Doe (Rented from: 2024-09-20 to 2024-09-25)\n",
      " - Jane Smith (Rented from: 2024-10-01 to 2024-10-05)\n",
      "\n",
      "\n",
      "Model: BMW X5\n",
      "Manufacturer: BMW\n",
      "Rental Rate: $120 per day\n",
      "Available: No\n",
      "Renters:\n",
      " - Alice Brown (Rented from: 2024-09-15 to 2024-09-20)\n",
      "\n",
      "\n",
      "Model: Toyota Corolla\n",
      "Manufacturer: Toyota\n",
      "Rental Rate: $80 per day\n",
      "Available: Yes\n",
      "No renters yet.\n",
      "\n",
      "\n"
     ]
    }
   ],
   "source": [
    "# A list of dictionaries representing cars in a rental system\n",
    "car_rental_system = [\n",
    "    {\n",
    "        \"model\": \"Tesla Model 3\",\n",
    "        \"manufacturer\": \"Tesla\",\n",
    "        \"rental_rate\": 150,  # rate per day in USD\n",
    "        \"available\": True,\n",
    "        \"renters\": [\n",
    "            {\"name\": \"John Doe\", \"rental_date\": \"2024-09-20\", \"return_date\": \"2024-09-25\"},\n",
    "            {\"name\": \"Jane Smith\", \"rental_date\": \"2024-10-01\", \"return_date\": \"2024-10-05\"}\n",
    "        ]\n",
    "    },\n",
    "    {\n",
    "        \"model\": \"BMW X5\",\n",
    "        \"manufacturer\": \"BMW\",\n",
    "        \"rental_rate\": 120,\n",
    "        \"available\": False,\n",
    "        \"renters\": [\n",
    "            {\"name\": \"Alice Brown\", \"rental_date\": \"2024-09-15\", \"return_date\": \"2024-09-20\"}\n",
    "        ]\n",
    "    },\n",
    "    {\n",
    "        \"model\": \"Toyota Corolla\",\n",
    "        \"manufacturer\": \"Toyota\",\n",
    "        \"rental_rate\": 80,\n",
    "        \"available\": True,\n",
    "        \"renters\": []\n",
    "    }\n",
    "]\n",
    "\n",
    "# Function to display information about each car in the rental system\n",
    "def print_car_rental_info(rental_system):\n",
    "    for car in rental_system:\n",
    "        print(f\"Model: {car['model']}\")\n",
    "        print(f\"Manufacturer: {car['manufacturer']}\")\n",
    "        print(f\"Rental Rate: ${car['rental_rate']} per day\")\n",
    "        print(f\"Available: {'Yes' if car['available'] else 'No'}\")\n",
    "        if car['renters']:\n",
    "            print(\"Renters:\")\n",
    "            for renter in car['renters']:\n",
    "                print(f\" - {renter['name']} (Rented from: {renter['rental_date']} to {renter['return_date']})\")\n",
    "        else:\n",
    "            print(\"No renters yet.\")\n",
    "        print(\"\\n\")\n",
    "\n",
    "# Call the function to display the car rental system information\n",
    "print_car_rental_info(car_rental_system)\n"
   ]
  }
 ],
 "metadata": {
  "kernelspec": {
   "display_name": "Python 3",
   "language": "python",
   "name": "python3"
  },
  "language_info": {
   "codemirror_mode": {
    "name": "ipython",
    "version": 3
   },
   "file_extension": ".py",
   "mimetype": "text/x-python",
   "name": "python",
   "nbconvert_exporter": "python",
   "pygments_lexer": "ipython3",
   "version": "3.12.6"
  }
 },
 "nbformat": 4,
 "nbformat_minor": 2
}
