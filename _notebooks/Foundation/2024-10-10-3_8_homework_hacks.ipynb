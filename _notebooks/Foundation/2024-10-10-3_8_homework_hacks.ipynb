{
 "cells": [
  {
   "cell_type": "raw",
   "metadata": {
    "vscode": {
     "languageId": "raw"
    }
   },
   "source": [
    "---\n",
    "toc: true\n",
    "layout: post\n",
    "type: hacks\n",
    "courses: { compsci: {week: 14} }\n",
    "title: 3.8 Homework Hack\n",
    "description: Mihir's Submission for Hacks from Lesson\n",
    "---"
   ]
  },
  {
   "cell_type": "markdown",
   "metadata": {},
   "source": [
    "## Homework Hack\n",
    "\n",
    "Create a program that asks the user for a number and keeps asking until they enter a positive number.\n",
    "\n",
    "Requirements:\n",
    "\n",
    "Input Validation: Make sure that the input is actually a number. Display an ‘error’ message if the user inputted something that is NOT a number\n",
    "Positive Checker: If the user has entered a number that is positive, print a ‘success!’ message with the entered number\n",
    "If the user has entered a number that is not positive like zero or a negative number, print a ‘try again’ message, prompting them to keep inputting numbers till they input a positive number.\n"
   ]
  },
  {
   "cell_type": "code",
   "execution_count": 2,
   "metadata": {},
   "outputs": [
    {
     "name": "stdout",
     "output_type": "stream",
     "text": [
      "Try again: Please enter a number greater than 0.\n",
      "Try again: Please enter a number greater than 0.\n",
      "Try again: Please enter a number greater than 0.\n",
      "Error: That's not a number. Please try again.\n",
      "Success! You entered a positive number: 18.0\n"
     ]
    }
   ],
   "source": [
    "def get_positive_number():\n",
    "    while True:\n",
    "        user_input = input(\"Please enter a positive number: \")\n",
    "\n",
    "        # Input Validation: Check if the input is a number\n",
    "        try:\n",
    "            number = float(user_input)\n",
    "        except ValueError:\n",
    "            print(\"Error: That's not a number. Please try again.\")\n",
    "            continue\n",
    "\n",
    "        # Positive Checker\n",
    "        if number > 0:\n",
    "            print(f\"Success! You entered a positive number: {number}\")\n",
    "            break\n",
    "        else:\n",
    "            print(\"Try again: Please enter a number greater than 0.\")\n",
    "\n",
    "get_positive_number()"
   ]
  }
 ],
 "metadata": {
  "kernelspec": {
   "display_name": "Python 3",
   "language": "python",
   "name": "python3"
  },
  "language_info": {
   "codemirror_mode": {
    "name": "ipython",
    "version": 3
   },
   "file_extension": ".py",
   "mimetype": "text/x-python",
   "name": "python",
   "nbconvert_exporter": "python",
   "pygments_lexer": "ipython3",
   "version": "3.12.6"
  }
 },
 "nbformat": 4,
 "nbformat_minor": 2
}
