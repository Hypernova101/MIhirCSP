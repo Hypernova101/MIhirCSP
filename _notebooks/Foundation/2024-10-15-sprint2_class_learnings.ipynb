{
 "cells": [
  {
   "cell_type": "raw",
   "metadata": {
    "vscode": {
     "languageId": "raw"
    }
   },
   "source": [
    "---\n",
    "layout: post\n",
    "title: Sprint 2 - Class Learnings \n",
    "description:  Blog of Blogs for Period 1 Brown for Sprint 2\n",
    "type: issues \n",
    "comments: true\n",
    "---"
   ]
  },
  {
   "cell_type": "markdown",
   "metadata": {},
   "source": [
    "# Individual Blogs\n",
    "[Table 1]() <br>\n",
    "[Table 2]() <br>\n",
    "[Table 3]() <br>\n",
    "[Table 4]() <br>\n",
    "[Table 5]() <br>\n",
    "[Table 6](https://github.com/Hypernova101/MihirCSP/blob/main/_notebooks/Foundation/2024-10-15-sprint2_team_learnings.ipynb)"
   ]
  }
 ],
 "metadata": {
  "language_info": {
   "name": "python"
  }
 },
 "nbformat": 4,
 "nbformat_minor": 2
}
