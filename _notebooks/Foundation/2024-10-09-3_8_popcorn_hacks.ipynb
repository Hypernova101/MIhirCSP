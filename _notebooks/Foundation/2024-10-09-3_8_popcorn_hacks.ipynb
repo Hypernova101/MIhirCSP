{
 "cells": [
  {
   "cell_type": "raw",
   "metadata": {
    "vscode": {
     "languageId": "raw"
    }
   },
   "source": [
    "---\n",
    "toc: true\n",
    "layout: post\n",
    "type: hacks\n",
    "courses: { compsci: {week: 14} }\n",
    "title: 3.8 Popcorn Hacks\n",
    "description: Mihir's Submission for Hacks from Lesson\n",
    "---"
   ]
  },
  {
   "cell_type": "markdown",
   "metadata": {},
   "source": [
    "## Popcorn Hack 1\n",
    "\n",
    "Using this code and nested if statements, check if the user is a student by defining a variable and putting a user input. Modify the code and implement a feature that asks the user if they are a student. If yes is answered, allow a 20 percent discount off of the original 10 dollar ticket. If no is answered, keep the price the same. Make sure it is able to handle invalid responses such as responses other than “yes” or “no” by prompting the user to answer again with a simple “yes” or “no”\n",
    "\n",
    "CHALLENGE: Add a feature that asks for the age of the user, and make varying ticket prices based off of the age groups.\n",
    "\n",
    "Ages 0-12: Child Ticket (50% off)\n",
    "Ages 13-63 Adult Ticket (0% off)\n",
    "Ages 65+: Senior Ticket (30% off)\n",
    "Popcorn Hack"
   ]
  },
  {
   "cell_type": "code",
   "execution_count": 1,
   "metadata": {},
   "outputs": [
    {
     "name": "stdout",
     "output_type": "stream",
     "text": [
      "Your final ticket price is: $8.00\n"
     ]
    }
   ],
   "source": [
    "def get_student_discount():\n",
    "    while True:\n",
    "        student = input(\"Are you a student? (yes/no): \").strip().lower()\n",
    "        if student == \"yes\":\n",
    "            return 0.8  # 20% discount\n",
    "        elif student == \"no\":\n",
    "            return 1  # no discount\n",
    "        else:\n",
    "            print(\"Invalid response. Please answer with 'yes' or 'no'.\")\n",
    "\n",
    "def get_age_discount():\n",
    "    while True:\n",
    "        try:\n",
    "            age = int(input(\"Please enter your age: \"))\n",
    "            if age < 0:\n",
    "                print(\"Invalid age. Try again.\")\n",
    "                continue\n",
    "            if age <= 12:\n",
    "                return 0.5  # 50% off for children\n",
    "            elif 13 <= age <= 63:\n",
    "                return 1  # no discount for adults\n",
    "            else:\n",
    "                return 0.7  # 30% off for seniors\n",
    "        except ValueError:\n",
    "            print(\"Please enter a valid age.\")\n",
    "\n",
    "def calculate_price():\n",
    "    base_price = 10\n",
    "    student_discount = get_student_discount()\n",
    "    age_discount = get_age_discount()\n",
    "\n",
    "    final_price = base_price * student_discount * age_discount\n",
    "    print(f\"Your final ticket price is: ${final_price:.2f}\")\n",
    "\n",
    "calculate_price()"
   ]
  },
  {
   "cell_type": "markdown",
   "metadata": {},
   "source": [
    "# Popcorn Hack 2\n",
    "Using this code, check if the number is even or odd, after satisfying the successful operation."
   ]
  },
  {
   "cell_type": "code",
   "execution_count": 2,
   "metadata": {},
   "outputs": [
    {
     "name": "stdout",
     "output_type": "stream",
     "text": [
      "17 is odd.\n"
     ]
    }
   ],
   "source": [
    "def check_even_odd():\n",
    "    while True:\n",
    "        try:\n",
    "            number = int(input(\"Enter a number: \"))\n",
    "            if number % 2 == 0:\n",
    "                print(f\"{number} is even.\")\n",
    "            else:\n",
    "                print(f\"{number} is odd.\")\n",
    "            break\n",
    "        except ValueError:\n",
    "            print(\"Please enter a valid integer.\")\n",
    "\n",
    "check_even_odd()"
   ]
  }
 ],
 "metadata": {
  "kernelspec": {
   "display_name": "Python 3",
   "language": "python",
   "name": "python3"
  },
  "language_info": {
   "codemirror_mode": {
    "name": "ipython",
    "version": 3
   },
   "file_extension": ".py",
   "mimetype": "text/x-python",
   "name": "python",
   "nbconvert_exporter": "python",
   "pygments_lexer": "ipython3",
   "version": "3.12.6"
  }
 },
 "nbformat": 4,
 "nbformat_minor": 2
}
