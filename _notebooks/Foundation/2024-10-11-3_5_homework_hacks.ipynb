{
 "cells": [
  {
   "cell_type": "raw",
   "metadata": {
    "vscode": {
     "languageId": "raw"
    }
   },
   "source": [
    "---\n",
    "toc: true\n",
    "layout: post\n",
    "type: hacks\n",
    "courses: { compsci: {week: 14} }\n",
    "title: 3.5 Popcorn Hacks\n",
    "description: Mihir's Submission for Hacks from Lesson\n",
    "---"
   ]
  },
  {
   "cell_type": "markdown",
   "metadata": {},
   "source": [
    "## Homework Hack\n",
    "\n",
    "Review the instructions and examples in the lesson and create a truth table using Python. Additionally look up and learn about De Morgan’s Law and see how it can be used to create a boolean expression."
   ]
  },
  {
   "cell_type": "code",
   "execution_count": 1,
   "metadata": {},
   "outputs": [
    {
     "name": "stdout",
     "output_type": "stream",
     "text": [
      "A     B     Result\n",
      "False False True \n",
      "False True  True \n",
      "True  False True \n",
      "True  True  True \n"
     ]
    }
   ],
   "source": [
    "def de_morgan_law():\n",
    "    print(f\"{'A':<5} {'B':<5} {'Result'}\")\n",
    "    values = [False, True]\n",
    "    \n",
    "    for A in values:\n",
    "        for B in values:\n",
    "            # Applying De Morgan's first law: not (A and B) == (not A or not B)\n",
    "            result = not (A and B) == (not A or not B)\n",
    "            print(f\"{A!s:<5} {B!s:<5} {result!s:<5}\")\n",
    "            \n",
    "# Run the function to display the truth table\n",
    "de_morgan_law()"
   ]
  }
 ],
 "metadata": {
  "kernelspec": {
   "display_name": "Python 3",
   "language": "python",
   "name": "python3"
  },
  "language_info": {
   "codemirror_mode": {
    "name": "ipython",
    "version": 3
   },
   "file_extension": ".py",
   "mimetype": "text/x-python",
   "name": "python",
   "nbconvert_exporter": "python",
   "pygments_lexer": "ipython3",
   "version": "3.12.6"
  }
 },
 "nbformat": 4,
 "nbformat_minor": 2
}
